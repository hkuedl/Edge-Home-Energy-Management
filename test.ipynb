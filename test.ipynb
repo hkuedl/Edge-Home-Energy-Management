{
 "cells": [
  {
   "cell_type": "code",
   "execution_count": null,
   "metadata": {},
   "outputs": [],
   "source": [
    "import os\n",
    "os.environ['CUDA_VISIBLE_DEVICES'] = \"0\"\n",
    "import torch\n",
    "from dataset import load_data, setup_seed\n",
    "from client import Client\n",
    "from server import Server\n",
    "device = torch.device('cuda' if torch.cuda.is_available() else 'cpu')\n",
    "print(device)"
   ]
  },
  {
   "cell_type": "code",
   "execution_count": null,
   "metadata": {},
   "outputs": [],
   "source": [
    "path_data = 'dataset/home/'\n",
    "choose = ['home_27','home_387','home_914','home_1240','home_3000','home_3488','home_5058','home_5587','home_5679','home_5997']  \n",
    "datas = load_data(path=path_data, postfix='*.csv', choose=choose)\n",
    "seed = 1\n",
    "state_dim = 9\n",
    "continous_action_dim = 3\n",
    "discrete_action_dim = 2\n",
    "eposide = 2000\n",
    "actor_sparsity = 0.8\n",
    "critic_sparsity = 0.8\n",
    "epsilon = 0.3\n",
    "aggregate = 40\n",
    "update = 10"
   ]
  },
  {
   "cell_type": "code",
   "execution_count": null,
   "metadata": {},
   "outputs": [],
   "source": [
    "setup_seed(seed)\n",
    "clients = []\n",
    "\n",
    "for i in range(len(choose)):\n",
    "    data = datas[i]\n",
    "    client = Client(data = data,\n",
    "                state_dim = state_dim,\n",
    "                continous_action_dim = continous_action_dim,\n",
    "                discrete_action_dim = discrete_action_dim,\n",
    "                epsilon = epsilon,\n",
    "                eposide = eposide)\n",
    "    clients.append(client)\n",
    "    \n",
    "server = Server(clients = clients,\n",
    "                eposide= eposide,\n",
    "                actor_sparsity = actor_sparsity,\n",
    "                critic_sparsity = critic_sparsity,\n",
    "                update = update,\n",
    "                aggregate = aggregate)"
   ]
  },
  {
   "cell_type": "code",
   "execution_count": null,
   "metadata": {},
   "outputs": [],
   "source": [
    "server.local_train()"
   ]
  },
  {
   "cell_type": "code",
   "execution_count": null,
   "metadata": {},
   "outputs": [],
   "source": [
    "server.fed_train()"
   ]
  },
  {
   "cell_type": "code",
   "execution_count": null,
   "metadata": {},
   "outputs": [],
   "source": [
    "server.sparse_fed_train()"
   ]
  }
 ],
 "metadata": {
  "kernelspec": {
   "display_name": "venv",
   "language": "python",
   "name": "python3"
  },
  "language_info": {
   "codemirror_mode": {
    "name": "ipython",
    "version": 3
   },
   "file_extension": ".py",
   "mimetype": "text/x-python",
   "name": "python",
   "nbconvert_exporter": "python",
   "pygments_lexer": "ipython3",
   "version": "3.10.13"
  }
 },
 "nbformat": 4,
 "nbformat_minor": 2
}
